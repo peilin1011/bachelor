{
 "cells": [
  {
   "cell_type": "code",
   "execution_count": null,
   "metadata": {},
   "outputs": [],
   "source": [
    "import cv2 as cv\n",
    "import myutils as my\n",
    "import matplotlib.pyplot as plt\n",
    "import numpy as np\n",
    "import imutils as im\n",
    "\n",
    "img = cv.imread(\"interface.jpg\")\n",
    "img = im.resize(img, height=500)\n",
    "# 创建列表locs储存轮廓的形状坐标，列表cnts储存lunkuo\n",
    "locs = []\n",
    "cnts = []\n",
    "thresh, contours = my.preprocess(img)\n",
    "img_copy = img.copy()\n",
    "cv.drawContours(img_copy, contours, -1, (0, 0, 255), 2)\n",
    "print(len(np.array(contours)))\n",
    "my.cv_show('contours', img_copy)\n",
    "\n",
    "# 遍历每个轮廓，根据面积找出数字界面\n",
    "for (i, c) in enumerate(contours):\n",
    "    # 计算矩形\n",
    "    x, y, w, h = cv.boundingRect(c)\n",
    "    area = cv.contourArea(c)\n",
    "    print(area)\n",
    "    # 符合的留下来\n",
    "    print \n",
    "print(len(np.array(cnts)))"
   ]
  }
 ],
 "metadata": {
  "kernelspec": {
   "display_name": "Python 3.8.5 ('base')",
   "language": "python",
   "name": "python3"
  },
  "language_info": {
   "name": "python",
   "version": "3.8.5"
  },
  "orig_nbformat": 4,
  "vscode": {
   "interpreter": {
    "hash": "e62a5e3905b965c49dd139ba5f05b3c389619f9adcf4d911322e26c12cc1cfd5"
   }
  }
 },
 "nbformat": 4,
 "nbformat_minor": 2
}
