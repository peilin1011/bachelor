{
 "cells": [
  {
   "cell_type": "code",
   "execution_count": 2,
   "metadata": {},
   "outputs": [
    {
     "ename": "ImportError",
     "evalue": "dlopen(/Library/Frameworks/Python.framework/Versions/3.10/lib/python3.10/site-packages/pyrealsense2/pyrealsense2.cpython-310-darwin.so, 0x0002): Library not loaded: @rpath/librealsense2.2.50.dylib\n  Referenced from: /Library/Frameworks/Python.framework/Versions/3.10/lib/python3.10/site-packages/pyrealsense2/pyrealsense2.2.50.0.cpython-310-darwin.so\n  Reason: tried: '/usr/lib/librealsense2.2.50.dylib' (no such file)",
     "output_type": "error",
     "traceback": [
      "\u001b[0;31m---------------------------------------------------------------------------\u001b[0m",
      "\u001b[0;31mImportError\u001b[0m                               Traceback (most recent call last)",
      "\u001b[1;32m/Users/peilinyue/bachelor-arbeit/video.ipynb Cell 1\u001b[0m in \u001b[0;36m<cell line: 4>\u001b[0;34m()\u001b[0m\n\u001b[1;32m      <a href='vscode-notebook-cell:/Users/peilinyue/bachelor-arbeit/video.ipynb#ch0000000?line=0'>1</a>\u001b[0m \u001b[39mimport\u001b[39;00m \u001b[39mnumpy\u001b[39;00m \u001b[39mas\u001b[39;00m \u001b[39mnp\u001b[39;00m\n\u001b[1;32m      <a href='vscode-notebook-cell:/Users/peilinyue/bachelor-arbeit/video.ipynb#ch0000000?line=1'>2</a>\u001b[0m \u001b[39mimport\u001b[39;00m \u001b[39mrandom\u001b[39;00m\n\u001b[0;32m----> <a href='vscode-notebook-cell:/Users/peilinyue/bachelor-arbeit/video.ipynb#ch0000000?line=3'>4</a>\u001b[0m \u001b[39mimport\u001b[39;00m \u001b[39mpyrealsense2\u001b[39;00m\u001b[39m.\u001b[39;00m\u001b[39mpyrealsense2\u001b[39;00m \u001b[39mas\u001b[39;00m \u001b[39mrs\u001b[39;00m \n\u001b[1;32m      <a href='vscode-notebook-cell:/Users/peilinyue/bachelor-arbeit/video.ipynb#ch0000000?line=5'>6</a>\u001b[0m bagfile \u001b[39m=\u001b[39m \u001b[39m'\u001b[39m\u001b[39mrecord.bag\u001b[39m\u001b[39m'\u001b[39m\n\u001b[1;32m      <a href='vscode-notebook-cell:/Users/peilinyue/bachelor-arbeit/video.ipynb#ch0000000?line=7'>8</a>\u001b[0m pipeline \u001b[39m=\u001b[39m rs\u001b[39m.\u001b[39mpipeline()\n",
      "\u001b[0;31mImportError\u001b[0m: dlopen(/Library/Frameworks/Python.framework/Versions/3.10/lib/python3.10/site-packages/pyrealsense2/pyrealsense2.cpython-310-darwin.so, 0x0002): Library not loaded: @rpath/librealsense2.2.50.dylib\n  Referenced from: /Library/Frameworks/Python.framework/Versions/3.10/lib/python3.10/site-packages/pyrealsense2/pyrealsense2.2.50.0.cpython-310-darwin.so\n  Reason: tried: '/usr/lib/librealsense2.2.50.dylib' (no such file)"
     ]
    }
   ],
   "source": [
    "import numpy as np\n",
    "import random\n",
    "\n",
    "import pyrealsense2.pyrealsense2 as rs \n",
    "\n",
    "bagfile = 'record.bag'\n",
    "\n",
    "pipeline = rs.pipeline()\n",
    "\n",
    "config = rs.config()\n",
    "rs.config.enable_device_from_file(config, bagfile, repeat_playback=False)\n",
    "\n",
    "config.enable_stream(rs.stream.color, 1280, 720, rs.format.rgb8, 30)\n",
    "config.enable_stream(rs.stream.depth, 848, 480, rs.format.z16, 30)\n",
    "\n",
    "pf = pipeline.start(config) "
   ]
  }
 ],
 "metadata": {
  "kernelspec": {
   "display_name": "Python 3.10.4 64-bit",
   "language": "python",
   "name": "python3"
  },
  "language_info": {
   "codemirror_mode": {
    "name": "ipython",
    "version": 3
   },
   "file_extension": ".py",
   "mimetype": "text/x-python",
   "name": "python",
   "nbconvert_exporter": "python",
   "pygments_lexer": "ipython3",
   "version": "3.10.4"
  },
  "orig_nbformat": 4,
  "vscode": {
   "interpreter": {
    "hash": "44a9cdcbdccbf05a880e90d2e6fe72470baab4d1b82472d890be0596ed887a6b"
   }
  }
 },
 "nbformat": 4,
 "nbformat_minor": 2
}
