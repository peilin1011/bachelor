{
 "cells": [
  {
   "cell_type": "code",
   "execution_count": 1,
   "metadata": {},
   "outputs": [],
   "source": [
    "\"\"\"灰度直方图\"\"\"\n",
    " \n",
    "import numpy as np\n",
    "import cv2\n",
    "import matplotlib.pyplot as plt\n",
    "#定义caleGrayHist函数来计算灰度直方图\n",
    "def caleGrayHist(image):\n",
    "    #灰度图像的高、宽\n",
    "    rows, cols = image.shape\n",
    "    #存储灰度直方图\n",
    "    grayHist = np.zeros([256], np.uint64) #图像的灰度级范围是0~255      \n",
    "    for r in range(rows):\n",
    "        for c in range(cols):\n",
    "            \n",
    "            grayHist[image[r][c]] +=1\n",
    "            \n",
    "    return grayHist\n",
    " \n"
   ]
  },
  {
   "cell_type": "code",
   "execution_count": 2,
   "metadata": {},
   "outputs": [
    {
     "ename": "error",
     "evalue": "OpenCV(4.6.0) D:\\a\\opencv-python\\opencv-python\\opencv\\modules\\imgproc\\src\\resize.cpp:4052: error: (-215:Assertion failed) !ssize.empty() in function 'cv::resize'\n",
     "output_type": "error",
     "traceback": [
      "\u001b[1;31m---------------------------------------------------------------------------\u001b[0m",
      "\u001b[1;31merror\u001b[0m                                     Traceback (most recent call last)",
      "\u001b[1;32mc:\\Users\\guest1\\bachelor\\calgray.ipynb Cell 2\u001b[0m in \u001b[0;36m<cell line: 2>\u001b[1;34m()\u001b[0m\n\u001b[0;32m      <a href='vscode-notebook-cell:/c%3A/Users/guest1/bachelor/calgray.ipynb#ch0000001?line=0'>1</a>\u001b[0m img \u001b[39m=\u001b[39m cv2\u001b[39m.\u001b[39mimread(\u001b[39m'\u001b[39m\u001b[39mIMG_9036.jpgg\u001b[39m\u001b[39m'\u001b[39m, cv2\u001b[39m.\u001b[39mIMREAD_GRAYSCALE)\n\u001b[1;32m----> <a href='vscode-notebook-cell:/c%3A/Users/guest1/bachelor/calgray.ipynb#ch0000001?line=1'>2</a>\u001b[0m img \u001b[39m=\u001b[39m cv2\u001b[39m.\u001b[39;49mresize(img, (\u001b[39m100\u001b[39;49m,\u001b[39m181\u001b[39;49m))\n\u001b[0;32m      <a href='vscode-notebook-cell:/c%3A/Users/guest1/bachelor/calgray.ipynb#ch0000001?line=3'>4</a>\u001b[0m \u001b[39m#计算灰度直方图\u001b[39;00m\n\u001b[0;32m      <a href='vscode-notebook-cell:/c%3A/Users/guest1/bachelor/calgray.ipynb#ch0000001?line=4'>5</a>\u001b[0m grayHist \u001b[39m=\u001b[39m caleGrayHist(img)\n",
      "\u001b[1;31merror\u001b[0m: OpenCV(4.6.0) D:\\a\\opencv-python\\opencv-python\\opencv\\modules\\imgproc\\src\\resize.cpp:4052: error: (-215:Assertion failed) !ssize.empty() in function 'cv::resize'\n"
     ]
    }
   ],
   "source": [
    "\n",
    "img = cv2.imread('number0.jpg', cv2.IMREAD_GRAYSCALE)\n",
    "img = cv2.resize(img, (100,181))\n",
    "\n",
    "#计算灰度直方图\n",
    "grayHist = caleGrayHist(img)\n",
    "#画出直方图\n",
    "x_range = range(256)\n",
    "plt.plot(x_range, grayHist, 'r', linewidth=1.5, c='orange')\n",
    "#设置坐标轴的范围\n",
    "y_maxValue = np.max(grayHist)\n",
    "plt.axis([0, 255, 0, y_maxValue]) #画图范围\n",
    "plt.xlabel(\"gray Level\")\n",
    "plt.ylabel(\"number of pixels\")\n",
    "plt.show()"
   ]
  },
  {
   "cell_type": "code",
   "execution_count": 23,
   "metadata": {},
   "outputs": [
    {
     "name": "stderr",
     "output_type": "stream",
     "text": [
      "C:\\Users\\guest1\\AppData\\Local\\Temp\\ipykernel_10208\\3460193858.py:8: UserWarning: color is redundantly defined by the 'color' keyword argument and the fmt string \"r\" (-> color=(1.0, 0.0, 0.0, 1)). The keyword argument will take precedence.\n",
      "  plt.plot(x_range, grayHist, 'r', linewidth=1.5, c='orange')\n"
     ]
    },
    {
     "data": {
      "image/png": "[encoded data removed]",
      "text/plain": [
       "<Figure size 432x288 with 1 Axes>"
      ]
     },
     "metadata": {
      "needs_background": "light"
     },
     "output_type": "display_data"
    },
    {
     "name": "stderr",
     "output_type": "stream",
     "text": [
      "C:\\Users\\guest1\\AppData\\Local\\Temp\\ipykernel_10208\\3460193858.py:36: UserWarning: color is redundantly defined by the 'color' keyword argument and the fmt string \"r\" (-> color=(1.0, 0.0, 0.0, 1)). The keyword argument will take precedence.\n",
      "  plt.plot(x_range, grayHist, 'r', linewidth=1.5, c='orange')\n"
     ]
    },
    {
     "data": {
      "image/png": "[encoded data removed]",
      "text/plain": [
       "<Figure size 432x288 with 1 Axes>"
      ]
     },
     "metadata": {
      "needs_background": "light"
     },
     "output_type": "display_data"
    }
   ],
   "source": [
    "\n",
    "img = cv2.imread('image3.jpeg', cv2.IMREAD_GRAYSCALE)\n",
    "img = cv2.resize(img, (100,181))\n",
    "\n",
    "#计算灰度直方图\n",
    "grayHist = caleGrayHist(img)\n",
    "#画出直方图\n",
    "x_range = range(256)\n",
    "plt.plot(x_range, grayHist, 'r', linewidth=1.5, c='orange')\n",
    "#设置坐标轴的范围\n",
    "y_maxValue = np.max(grayHist)\n",
    "plt.axis([0, 255, 0, y_maxValue]) #画图范围\n",
    "plt.xlabel(\"gray Level\")\n",
    "plt.ylabel(\"number of pixels\")\n",
    "plt.show()\n",
    "\n",
    "chose = 3\n",
    "if chose == 1:\n",
    "    O = np.zeros_like(img)\n",
    "    cv2.normalize(img, O, 0, 255, cv2.NORM_MINMAX, cv2.CV_8U) #公式\n",
    "if chose == 2:\n",
    "    # 对比度增加后\n",
    "    #线性变换\n",
    "    a = 2\n",
    "    O = float(a) * img\n",
    "    O[O>255] = 255 #大于255要截断为255\n",
    "        \n",
    "    #数据类型的转换\n",
    "    O = np.round(O)\n",
    "    O = O.astype(np.uint8)\n",
    "if chose == 3:\n",
    "    O = cv2.equalizeHist(img)\n",
    "\n",
    "grayHist = caleGrayHist(O)\n",
    "#画出直方图\n",
    "x_range = range(256)\n",
    "plt.plot(x_range, grayHist, 'r', linewidth=1.5, c='orange')\n",
    "#设置坐标轴的范围\n",
    "y_maxValue = np.max(grayHist)\n",
    "plt.axis([0, 255, 0, y_maxValue]) #画图范围\n",
    "plt.xlabel(\"gray Level\")\n",
    "plt.ylabel(\"number of pixels\")\n",
    "plt.show()"
   ]
  },
  {
   "cell_type": "markdown",
   "metadata": {},
   "source": [
    "灰度级主要在0~150之间，造成图像对比度较低，要先判断出那些对比度低"
   ]
  },
  {
   "cell_type": "markdown",
   "metadata": {},
   "source": [
    "原始的低对比度，低灰度的像素点的数量："
   ]
  },
  {
   "cell_type": "code",
   "execution_count": 4,
   "metadata": {},
   "outputs": [
    {
     "name": "stdout",
     "output_type": "stream",
     "text": [
      "4999\n"
     ]
    }
   ],
   "source": [
    "img = cv2.imread('number5.jpg', cv2.IMREAD_GRAYSCALE)\n",
    "img = cv2.resize(img, (100,181))\n",
    "i = 0\n",
    "for x in range(181):\n",
    "    for y in range(100):\n",
    "        pixel = img[x,y]\n",
    "        if 80 < pixel < 120:\n",
    "            i = i + 1\n",
    "print(i)"
   ]
  },
  {
   "cell_type": "markdown",
   "metadata": {},
   "source": [
    "提高对比度后，低灰度的像素点的数量："
   ]
  },
  {
   "cell_type": "code",
   "execution_count": 5,
   "metadata": {},
   "outputs": [
    {
     "name": "stdout",
     "output_type": "stream",
     "text": [
      "400\n"
     ]
    }
   ],
   "source": [
    "img = cv2.imread('number5.jpg', cv2.IMREAD_GRAYSCALE)\n",
    "img = cv2.resize(img, (100,181))\n",
    "# 对比度增加后\n",
    "#线性变换\n",
    "a = 2\n",
    "O = float(a) * img\n",
    "O[O>255] = 255 #大于255要截断为255\n",
    "    \n",
    "#数据类型的转换\n",
    "O = np.round(O)\n",
    "O = O.astype(np.uint8)\n",
    "\n",
    "i = 0\n",
    "for x in range(181):\n",
    "    for y in range(100):\n",
    "        pixel = O[x,y]\n",
    "        if 80 < pixel < 120:\n",
    "            i = i + 1\n",
    "print(i)\n"
   ]
  },
  {
   "cell_type": "markdown",
   "metadata": {},
   "source": [
    "原始的高对比度，低灰度的像素点的数量："
   ]
  },
  {
   "cell_type": "code",
   "execution_count": 24,
   "metadata": {},
   "outputs": [
    {
     "name": "stdout",
     "output_type": "stream",
     "text": [
      "746\n"
     ]
    }
   ],
   "source": [
    "img = cv2.imread('number0.jpg', cv2.IMREAD_GRAYSCALE)\n",
    "img = cv2.resize(img, (100,181))\n",
    "i = 0\n",
    "for x in range(181):\n",
    "    for y in range(100):\n",
    "        pixel = img[x,y]\n",
    "        if 80 < pixel < 120:\n",
    "            i = i + 1\n",
    "print(i)"
   ]
  }
 ],
 "metadata": {
  "kernelspec": {
   "display_name": "Python 3.10.5 64-bit (windows store)",
   "language": "python",
   "name": "python3"
  },
  "language_info": {
   "codemirror_mode": {
    "name": "ipython",
    "version": 3
   },
   "file_extension": ".py",
   "mimetype": "text/x-python",
   "name": "python",
   "nbconvert_exporter": "python",
   "pygments_lexer": "ipython3",
   "version": "3.10.5"
  },
  "orig_nbformat": 4,
  "vscode": {
   "interpreter": {
    "hash": "a7477bcd6116d89e7620dedabc22fd2a6b044bf7a5e56772e50f7dca84f66ca5"
   }
  }
 },
 "nbformat": 4,
 "nbformat_minor": 2
}
