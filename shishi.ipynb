{
 "cells": [
  {
   "cell_type": "code",
   "execution_count": 6,
   "metadata": {},
   "outputs": [
    {
     "name": "stdout",
     "output_type": "stream",
     "text": [
      "total: (1056, 2464, 3)\n",
      "cx:196.6032230113733 cy:1027.2436157220732\n",
      "cx:277.5413772403739 cy:892.7170911585627\n",
      "cx:581.5658376005853 cy:877.33650329188\n",
      "cx:1562.3688987573526 cy:862.0019866775739\n",
      "cx:1051.9488388732375 cy:868.328981902865\n",
      "cx:679.201649684619 cy:788.191557496361\n",
      "cx:395.04415011037526 cy:730.233995584989\n",
      "cx:2126.001709279724 cy:784.0789462953146\n",
      "cx:2313.2589700811923 cy:629.1475253030808\n",
      "cx:1077.8589102661213 cy:623.0439800787759\n",
      "cx:2115.9471919891257 cy:892.9160207703817\n",
      "cx:843.9089013632719 cy:339.37214648489703\n",
      "cx:1159.9251775486825 cy:316.0170996563574\n",
      "cx:1118.228725503277 cy:141.1448306281025\n",
      "1\n"
     ]
    }
   ],
   "source": [
    "import cv2 as cv\n",
    "import myutils as my\n",
    "import matplotlib.pyplot as plt\n",
    "import numpy as np\n",
    "\n",
    "img = cv.imread(\"balance135624.jpg\")\n",
    "# img是灰度图的话：height, width = img.shape\n",
    "print(f'total: {img.shape}')\n",
    "# 创建列表locs储存轮廓的形状坐标，列表cnts储存lunkuo\n",
    "locs = []\n",
    "cnts = []\n",
    "thresh, contours = my.preprocess(img)\n",
    "for (i, c) in enumerate(contours):\n",
    "    # 计算矩形\n",
    "    M = cv.moments(c)\n",
    "    cx, cy = M['m10'] / M['m00'], M['m01'] / M['m00'] \n",
    "    print(f'cx:{cx} cy:{cy}')\n",
    "    if  1000 < cx < 12000 and  200 < cy < 300:\n",
    "        cnts.append(c)\n",
    "print(len(cnts))\n",
    "img_copy = img.copy()\n",
    "cv.drawContours(img_copy, cnts, -1, (0, 0, 255), 3)\n",
    "# my.cv_show('contours', img_copy)\n",
    "cv.destroyAllWindows()\n",
    "# 遍历每个轮廓，根据面积找出数字界面\n"
   ]
  }
 ],
 "metadata": {
  "kernelspec": {
   "display_name": "Python 3.8.5 ('base')",
   "language": "python",
   "name": "python3"
  },
  "language_info": {
   "codemirror_mode": {
    "name": "ipython",
    "version": 3
   },
   "file_extension": ".py",
   "mimetype": "text/x-python",
   "name": "python",
   "nbconvert_exporter": "python",
   "pygments_lexer": "ipython3",
   "version": "3.8.5"
  },
  "orig_nbformat": 4,
  "vscode": {
   "interpreter": {
    "hash": "e62a5e3905b965c49dd139ba5f05b3c389619f9adcf4d911322e26c12cc1cfd5"
   }
  }
 },
 "nbformat": 4,
 "nbformat_minor": 2
}
