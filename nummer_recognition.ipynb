{
 "cells": [
  {
   "cell_type": "markdown",
   "metadata": {},
   "source": [
    "对于对比度低的数字"
   ]
  },
  {
   "cell_type": "code",
   "execution_count": 5,
   "metadata": {},
   "outputs": [],
   "source": [
    "import cv2 as cv\n",
    "from myutils import cv_show\n",
    "import numpy as np\n",
    "def nummer_6_segments(img):\n",
    "\n",
    "    print(f'图片原始高度，宽度分别为:{img.shape}')\n",
    "    cv_show('img', img)\n",
    "    img = cv.resize(img, (100,181))\n",
    "    print(f'图片resize后高度,宽度分别为:{img.shape}')\n",
    "    \n",
    "    # 灰度图\n",
    "    gray = cv.cvtColor(img, cv.COLOR_BGR2GRAY)\n",
    "    cv_show('gray', gray)\n",
    "    \n",
    "    #线性变换\n",
    "    a = 2\n",
    "    O = float(a) * gray\n",
    "    O[O>255] = 255 #大于255要截断为255\n",
    "    #数据类型的转换\n",
    "    O = np.round(O)\n",
    "    O = O.astype(np.uint8)\n",
    "    cv_show('O', O)\n",
    "    \n",
    "    \n",
    "    # 腐蚀\n",
    "    kernel = np.ones((5, 5), np.uint8)\n",
    "    erosion = cv.erode(O, kernel)  \n",
    "    cv_show('erosion', erosion)\n",
    "    # 滤波\n",
    "    gaussian = cv.GaussianBlur(erosion, (5, 5), 1)  # 高斯滤波\n",
    "    # 阈值化\n",
    "    thresh = cv.threshold(gaussian, 150, 255, cv.THRESH_BINARY)[1]\n",
    "    cv_show('thresh', thresh)\n",
    "    # canny边缘检测\n",
    "    edges = cv.Canny(thresh, 30, 70)\n",
    "    cv_show('edges', edges)\n",
    "\n",
    "    contours = cv.findContours(edges.copy(), cv.RETR_EXTERNAL,cv.CHAIN_APPROX_SIMPLE)[0]\n",
    "    print(len(contours))\n",
    "    img_copy = img.copy()\n",
    "    cv.drawContours(img_copy, contours, -1, (0, 0, 255), 2)\n",
    "\n",
    "\n",
    "    cv_show('contours', img_copy)\n",
    "    cv.destroyAllWindows()"
   ]
  },
  {
   "cell_type": "code",
   "execution_count": 7,
   "metadata": {},
   "outputs": [
    {
     "name": "stdout",
     "output_type": "stream",
     "text": [
      "图片原始高度，宽度分别为:(134, 66, 3)\n",
      "图片resize后高度,宽度分别为:(181, 100, 3)\n",
      "6\n"
     ]
    }
   ],
   "source": [
    "img = cv.imread('number3.jpg')\n",
    "nummer_6_segments(img)"
   ]
  },
  {
   "cell_type": "markdown",
   "metadata": {},
   "source": [
    "对于对比度高的数字"
   ]
  },
  {
   "cell_type": "code",
   "execution_count": 8,
   "metadata": {},
   "outputs": [
    {
     "name": "stdout",
     "output_type": "stream",
     "text": [
      "图片原始高度，宽度分别为:(181, 100, 3)\n",
      "图片resize后高度,宽度分别为:(181, 100, 3)\n",
      "2\n"
     ]
    }
   ],
   "source": [
    "img = cv.imread('number0.jpg')\n",
    "nummer_6_segments(img)"
   ]
  }
 ],
 "metadata": {
  "kernelspec": {
   "display_name": "Python 3.8.5 ('base')",
   "language": "python",
   "name": "python3"
  },
  "language_info": {
   "codemirror_mode": {
    "name": "ipython",
    "version": 3
   },
   "file_extension": ".py",
   "mimetype": "text/x-python",
   "name": "python",
   "nbconvert_exporter": "python",
   "pygments_lexer": "ipython3",
   "version": "3.8.5"
  },
  "orig_nbformat": 4,
  "vscode": {
   "interpreter": {
    "hash": "e62a5e3905b965c49dd139ba5f05b3c389619f9adcf4d911322e26c12cc1cfd5"
   }
  }
 },
 "nbformat": 4,
 "nbformat_minor": 2
}
